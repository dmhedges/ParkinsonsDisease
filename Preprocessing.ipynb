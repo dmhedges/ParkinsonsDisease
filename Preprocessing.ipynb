{
 "cells": [
  {
   "cell_type": "markdown",
   "metadata": {},
   "source": [
    "## Libraries and Packages\n",
    " - Python version: 3.7.7\n",
    " - IPython version: 7.16.1\n",
    " - Pandas version: 1.0.5\n",
    " - SciKit Learn version: 0.23.1"
   ]
  },
  {
   "cell_type": "code",
   "execution_count": 1,
   "metadata": {},
   "outputs": [],
   "source": [
    "import pandas as pd\n",
    "\n",
    "from sklearn.experimental import enable_iterative_imputer\n",
    "from sklearn.impute import IterativeImputer\n",
    "from sklearn.ensemble import RandomForestClassifier"
   ]
  },
  {
   "cell_type": "markdown",
   "metadata": {},
   "source": [
    "## Data Import"
   ]
  },
  {
   "cell_type": "code",
   "execution_count": 2,
   "metadata": {},
   "outputs": [],
   "source": [
    "original_df = pd.read_csv('2021-02-17_full_data_flatfile.csv', low_memory=False,\n",
    "                         usecols=['excluded','research_auth','case_control',\n",
    "                                  'sex','race','parktype_case','cardinal_sym___tremor',\n",
    "                                  'cardinal_sym___brady','cardinal_sym___reflex',\n",
    "                                  'cardinal_sym___rigid','cardinal_sym___asymmetry',\n",
    "                                  'synucleinopathy_type','dlb_dementia',\n",
    "                                  'dyskinesia','rem_sleep','rem_sleep_without_atonia',\n",
    "                                  'restless_legs_syndrome','obstructive_sleep_apnea',\n",
    "                                  'primary_snoring','narcolepsy','insomnia',\n",
    "                                  'hypersomnolence','hypnotic_med_use','erdys',\n",
    "                                  'constipation','constipation_longstanding',\n",
    "                                  'anosmia','anosmia_longstanding','neurogenic_bladder',\n",
    "                                  'neurogenic_longstanding'])\n",
    "\n",
    "\n",
    "# Eliminate all instances missing the y - parktype_case\n",
    "original_df = original_df[original_df['parktype_case'].notna()]\n",
    "\n",
    "# Drop excluded patients\n",
    "original_df = original_df[~original_df['excluded'].isin([1,2])]\n",
    "original_df = original_df[~original_df['research_auth'].isin(['N'])]\n",
    "original_df = original_df[~original_df['case_control'].isin(['control'])]\n",
    "\n",
    "# Final drops\n",
    "original_df = original_df.drop(columns=['excluded','research_auth','case_control'])"
   ]
  },
  {
   "cell_type": "code",
   "execution_count": 3,
   "metadata": {},
   "outputs": [
    {
     "data": {
      "text/plain": [
       "(658, 27)"
      ]
     },
     "execution_count": 3,
     "metadata": {},
     "output_type": "execute_result"
    }
   ],
   "source": [
    "original_df.shape"
   ]
  },
  {
   "cell_type": "markdown",
   "metadata": {},
   "source": [
    "## Analysis Plan\n",
    "\n",
    "<img src='Figure1_Pipeline_4.png'>"
   ]
  },
  {
   "cell_type": "markdown",
   "metadata": {},
   "source": [
    "# Preprocessing\n",
    "\n",
    "### Encoding of Categoricals"
   ]
  },
  {
   "cell_type": "code",
   "execution_count": 4,
   "metadata": {
    "scrolled": true
   },
   "outputs": [],
   "source": [
    "# Binary Encoding and Re-encoding\n",
    "df_encoded = pd.DataFrame()\n",
    "\n",
    "df_encoded['sex'] = original_df['sex'].replace('M',1)\n",
    "df_encoded['sex'] = df_encoded['sex'].replace('F',0)\n",
    "\n",
    "df_encoded['dlb_dementia'] = original_df['dlb_dementia'].replace('1995-12-07',1)\n",
    "df_encoded['dlb_dementia'] = df_encoded['dlb_dementia'].replace('1998-12-11',1)\n",
    "df_encoded['dlb_dementia'] = df_encoded['dlb_dementia'].replace('2009-01-07',1)\n",
    "\n",
    "df_encoded['dyskinesia'] = original_df['dyskinesia'].replace(3.0,1.0)\n",
    "\n",
    "df_encoded['constipation'] = original_df['constipation'].replace(3.0,0.0)\n",
    "\n",
    "df_encoded['anosmia'] = original_df['anosmia'].replace(3.0,0.0)\n",
    "\n",
    "df_encoded['parktype_case'] = original_df['parktype_case'].replace('als_parkinsonism',1)\n",
    "df_encoded['parktype_case'] = df_encoded['parktype_case'].replace('corticobasal_syndrome',2)\n",
    "df_encoded['parktype_case'] = df_encoded['parktype_case'].replace('drug_induced_parkinsons_disease',3)\n",
    "df_encoded['parktype_case'] = df_encoded['parktype_case'].replace('lewy_body_disease',4)\n",
    "df_encoded['parktype_case'] = df_encoded['parktype_case'].replace('multi_system_atrophy',5)\n",
    "df_encoded['parktype_case'] = df_encoded['parktype_case'].replace('parkinsons_disease',6)\n",
    "df_encoded['parktype_case'] = df_encoded['parktype_case'].replace('parkinsons_disease_in_dementia',7)\n",
    "df_encoded['parktype_case'] = df_encoded['parktype_case'].replace('parkinsons_disease_unspecified_insufficient_data',8)\n",
    "df_encoded['parktype_case'] = df_encoded['parktype_case'].replace('progressive_supranuclear_palsy',9)\n",
    "df_encoded['parktype_case'] = df_encoded['parktype_case'].replace('surgical_parkinsons_disease',10)\n",
    "df_encoded['parktype_case'] = df_encoded['parktype_case'].replace('vascular_parkinsons_disease',11)"
   ]
  },
  {
   "cell_type": "markdown",
   "metadata": {},
   "source": [
    "### Missing Data"
   ]
  },
  {
   "cell_type": "code",
   "execution_count": 5,
   "metadata": {},
   "outputs": [],
   "source": [
    "# Custom NAs (unique because of the hand data curation nuances and assumptions)\n",
    "df_filled = df_encoded\n",
    "\n",
    "df_filled['synucleinopathy_type'] = original_df['synucleinopathy_type'].fillna(0.0)\n",
    "df_filled['dlb_dementia'] = df_encoded['dlb_dementia'].fillna(0.0)\n",
    "df_filled['dyskinesia'] = df_encoded['dyskinesia'].fillna(0.0)\n",
    "df_filled['rem_sleep'] = original_df['rem_sleep'].fillna(0.0)\n",
    "df_filled['rem_sleep_without_atonia'] = original_df['rem_sleep_without_atonia'].fillna(0.0)\n",
    "df_filled['restless_legs_syndrome'] = original_df['restless_legs_syndrome'].fillna(0.0)\n",
    "df_filled['obstructive_sleep_apnea'] = original_df['obstructive_sleep_apnea'].fillna(0.0)\n",
    "df_filled['primary_snoring'] = original_df['primary_snoring'].fillna(0.0)\n",
    "df_filled['narcolepsy'] = original_df['narcolepsy'].fillna(0.0)\n",
    "df_filled['insomnia'] = original_df['insomnia'].fillna(0.0)\n",
    "df_filled['hypersomnolence'] = original_df['hypersomnolence'].fillna(0.0)\n",
    "df_filled['hypnotic_med_use'] = original_df['hypnotic_med_use'].fillna(0.0)\n",
    "df_filled['erdys'] = original_df['erdys'].fillna(0.0)\n",
    "df_filled['constipation'] = df_encoded['constipation'].fillna(0.0)\n",
    "df_filled['constipation_longstanding'] = original_df['constipation_longstanding'].fillna(0.0)\n",
    "df_filled['anosmia'] = df_encoded['anosmia'].fillna(0.0)\n",
    "df_filled['anosmia_longstanding'] = original_df['anosmia_longstanding'].fillna(0.0)\n",
    "df_filled['neurogenic_bladder'] = original_df['neurogenic_bladder'].fillna(0.0)\n",
    "df_filled['neurogenic_longstanding'] = original_df['neurogenic_longstanding'].fillna(0.0)\n",
    "\n",
    "# Add in remaining columns to active dataframe\n",
    "df_filled['race'] = original_df['race']\n",
    "df_filled['cardinal_sym___tremor'] = original_df['cardinal_sym___tremor']\n",
    "df_filled['cardinal_sym___brady'] = original_df['cardinal_sym___brady']\n",
    "df_filled['cardinal_sym___reflex'] = original_df['cardinal_sym___reflex']\n",
    "df_filled['cardinal_sym___rigid'] = original_df['cardinal_sym___rigid']\n",
    "df_filled['cardinal_sym___asymmetry'] = original_df['cardinal_sym___asymmetry']"
   ]
  },
  {
   "cell_type": "code",
   "execution_count": 6,
   "metadata": {},
   "outputs": [],
   "source": [
    "# Iterative Imputer for remaining missing data points\n",
    "itimp = IterativeImputer(estimator=RandomForestClassifier(),\n",
    "                         max_iter=50)\n",
    "itimp.fit_transform(df_filled)\n",
    "\n",
    "df_imputed = pd.DataFrame(itimp.fit_transform(df_filled),\n",
    "                          columns=list(df_filled),\n",
    "                          index=df_filled.index)"
   ]
  },
  {
   "cell_type": "code",
   "execution_count": 7,
   "metadata": {},
   "outputs": [
    {
     "data": {
      "text/plain": [
       "sex                          0\n",
       "dlb_dementia                 0\n",
       "dyskinesia                   0\n",
       "constipation                 0\n",
       "anosmia                      0\n",
       "parktype_case                0\n",
       "synucleinopathy_type         0\n",
       "rem_sleep                    0\n",
       "rem_sleep_without_atonia     0\n",
       "restless_legs_syndrome       0\n",
       "obstructive_sleep_apnea      0\n",
       "primary_snoring              0\n",
       "narcolepsy                   0\n",
       "insomnia                     0\n",
       "hypersomnolence              0\n",
       "hypnotic_med_use             0\n",
       "erdys                        0\n",
       "constipation_longstanding    0\n",
       "anosmia_longstanding         0\n",
       "neurogenic_bladder           0\n",
       "neurogenic_longstanding      0\n",
       "race                         0\n",
       "cardinal_sym___tremor        0\n",
       "cardinal_sym___brady         0\n",
       "cardinal_sym___reflex        0\n",
       "cardinal_sym___rigid         0\n",
       "cardinal_sym___asymmetry     0\n",
       "dtype: int64"
      ]
     },
     "execution_count": 7,
     "metadata": {},
     "output_type": "execute_result"
    }
   ],
   "source": [
    "df_imputed.isna().sum()"
   ]
  },
  {
   "cell_type": "markdown",
   "metadata": {},
   "source": [
    "### Class Balance Check"
   ]
  },
  {
   "cell_type": "code",
   "execution_count": 8,
   "metadata": {},
   "outputs": [
    {
     "name": "stdout",
     "output_type": "stream",
     "text": [
      "1: 1\n",
      "2: 4\n",
      "3: 47\n",
      "4: 81\n",
      "5: 16\n",
      "6: 304\n",
      "7: 56\n",
      "8: 115\n",
      "9: 19\n",
      "10: 2\n",
      "11: 13\n"
     ]
    }
   ],
   "source": [
    "X = df_imputed.drop(columns=['parktype_case'])\n",
    "y = df_imputed['parktype_case']\n",
    "\n",
    "y_list = list(y)\n",
    "print('1: '+str(y_list.count(1)))\n",
    "print('2: '+str(y_list.count(2)))\n",
    "print('3: '+str(y_list.count(3)))\n",
    "print('4: '+str(y_list.count(4)))\n",
    "print('5: '+str(y_list.count(5)))\n",
    "print('6: '+str(y_list.count(6)))\n",
    "print('7: '+str(y_list.count(7)))\n",
    "print('8: '+str(y_list.count(8)))\n",
    "print('9: '+str(y_list.count(9)))\n",
    "print('10: '+str(y_list.count(10)))\n",
    "print('11: '+str(y_list.count(11)))"
   ]
  },
  {
   "cell_type": "markdown",
   "metadata": {},
   "source": [
    "Classes are significantly imbalanced. For Clustering Analysis, drop all with 10 or fewer instances. For developing a Predictive Model, leave them all instances in initially to enable a one-vs-rest classification approach. "
   ]
  },
  {
   "cell_type": "markdown",
   "metadata": {},
   "source": [
    "### Categorical Variable Encoding"
   ]
  },
  {
   "cell_type": "code",
   "execution_count": 9,
   "metadata": {
    "scrolled": false
   },
   "outputs": [],
   "source": [
    "# Note, binary categoricals were not encoded\n",
    "categoricals_to_encode = ['dyskinesia','constipation','anosmia',\n",
    "                          'synucleinopathy_type','race']\n",
    "\n",
    "final_df = pd.get_dummies(df_imputed, columns=categoricals_to_encode)"
   ]
  },
  {
   "cell_type": "markdown",
   "metadata": {},
   "source": [
    "# Serialize final dataframe"
   ]
  },
  {
   "cell_type": "code",
   "execution_count": 10,
   "metadata": {},
   "outputs": [],
   "source": [
    "final_df = df_imputed"
   ]
  },
  {
   "cell_type": "code",
   "execution_count": 11,
   "metadata": {},
   "outputs": [],
   "source": [
    "final_df.to_pickle('preprocessed_df.pkl')"
   ]
  },
  {
   "cell_type": "code",
   "execution_count": null,
   "metadata": {},
   "outputs": [],
   "source": []
  }
 ],
 "metadata": {
  "kernelspec": {
   "display_name": "Python 3",
   "language": "python",
   "name": "python3"
  },
  "language_info": {
   "codemirror_mode": {
    "name": "ipython",
    "version": 3
   },
   "file_extension": ".py",
   "mimetype": "text/x-python",
   "name": "python",
   "nbconvert_exporter": "python",
   "pygments_lexer": "ipython3",
   "version": "3.7.7"
  }
 },
 "nbformat": 4,
 "nbformat_minor": 4
}
